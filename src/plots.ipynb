{
 "cells": [
  {
   "cell_type": "code",
   "execution_count": 1,
   "metadata": {},
   "outputs": [],
   "source": [
    "using DifferentialEquations\n",
    "using LinearAlgebra\n",
    "using SparseArrays\n",
    "using Plots"
   ]
  },
  {
   "cell_type": "code",
   "execution_count": 1,
   "metadata": {},
   "outputs": [],
   "source": [
    "include(\"PointMass.jl\")\n",
    "import .PointMass"
   ]
  },
  {
   "cell_type": "code",
   "execution_count": null,
   "metadata": {},
   "outputs": [],
   "source": [
    "problem = PointMass.One_PointmassProblem(\n",
    "    m=50.0, \n",
    "    γ=0, \n",
    "    k=60.0, \n",
    "    v0=0.0, \n",
    "    x0=3.0, \n",
    "    F=0.0\n",
    ")\n",
    "\n",
    "sol = PointMass.single_dof_numerical(problem, (0, 30))\n",
    "sol_A = PointMass.single_dof_damped_noforce(problem)\n",
    "sol_A_discrete = map(sol_A, sol.t)\n",
    "err = sol_A_discrete - sol[2, :]\n",
    "\n",
    "p1 = plot(sol, vars=2, label=\"position\", ylabel=\"m\", color=:red)\n",
    "p2 = plot(sol_A, 0, 30, label=\"analytical position\", xlabel=\"t\", ylabel=\"m\")\n",
    "xlims!((0, 30))\n",
    "p3 = plot(sol.t, abs.(err) .+ 1e-17, yaxis=:log, label=\"|error|\", ylabel=\"\")\n",
    "xlims!((0, 30))\n",
    "\n",
    "plot(p1, p2, p3, layout=(3, 1), size=(700, 500), lw=2)"
   ]
  }
 ],
 "metadata": {
  "kernelspec": {
   "display_name": "Julia 1.9.3",
   "language": "julia",
   "name": "julia-1.9"
  },
  "language_info": {
   "file_extension": ".jl",
   "mimetype": "application/julia",
   "name": "julia",
   "version": "1.9.3"
  }
 },
 "nbformat": 4,
 "nbformat_minor": 2
}
