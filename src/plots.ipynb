{
 "cells": [
  {
   "cell_type": "code",
   "execution_count": 16,
   "metadata": {},
   "outputs": [],
   "source": [
    "using DifferentialEquations\n",
    "using LinearAlgebra\n",
    "using SparseArrays\n",
    "using Plots"
   ]
  },
  {
   "cell_type": "code",
   "execution_count": 32,
   "metadata": {},
   "outputs": [
    {
     "name": "stderr",
     "output_type": "stream",
     "text": [
      "WARNING: replacing module PointMass.\n"
     ]
    }
   ],
   "source": [
    "include(\"PointMass.jl\")\n",
    "import .PointMass"
   ]
  },
  {
   "cell_type": "code",
   "execution_count": 25,
   "metadata": {},
   "outputs": [
    {
     "data": {
      "text/plain": [
       "\"c:\\\\Users\\\\Gebruiker\\\\Documents\\\\CSE MINOR\\\\TW3715 Final Minor Project - Part A\\\\BusDoor_modeling2023\\\\src\\\\mass-spring-noforce.png\""
      ]
     },
     "metadata": {},
     "output_type": "display_data"
    }
   ],
   "source": [
    "problem = PointMass.One_PointmassProblem(\n",
    "    m=50.0, \n",
    "    γ=0, \n",
    "    k=60.0, \n",
    "    v0=0.0, \n",
    "    x0=3.0, \n",
    "    F=0.0\n",
    ")\n",
    "\n",
    "sol = PointMass.single_dof_numerical(problem, (0, 30))\n",
    "sol_A = PointMass.single_dof_damped_noforce(problem)\n",
    "sol_A_discrete = map(sol_A, sol.t)\n",
    "err = sol_A_discrete - sol[2, :]\n",
    "\n",
    "p1 = plot(sol, vars=2, label=\"position\", ylabel=\"m\", color=:red)\n",
    "p2 = plot(sol_A, 0, 30, label=\"undamped, F=0 N\", xlabel=\"t\", ylabel=\"u(t)\", lw=2)\n",
    "xlims!((0, 30))\n",
    "p3 = plot(sol.t, abs.(err) .+ 1e-17, yaxis=:log, label=\"|error|\", ylabel=\"\")\n",
    "xlims!((0, 30))\n",
    "\n",
    "plot(p2)\n",
    "\n",
    "savefig(\"mass-spring-noforce.png\")"
   ]
  },
  {
   "cell_type": "code",
   "execution_count": 27,
   "metadata": {},
   "outputs": [
    {
     "data": {
      "text/plain": [
       "\"c:\\\\Users\\\\Gebruiker\\\\Documents\\\\CSE MINOR\\\\TW3715 Final Minor Project - Part A\\\\BusDoor_modeling2023\\\\src\\\\mass-spring-damper-noforce.png\""
      ]
     },
     "metadata": {},
     "output_type": "display_data"
    }
   ],
   "source": [
    "problem = PointMass.One_PointmassProblem(\n",
    "    m=50.0, \n",
    "    γ=23.0, \n",
    "    k=60.0, \n",
    "    v0=0.0, \n",
    "    x0=3.0, \n",
    "    F=0.0\n",
    ")\n",
    "\n",
    "sol = PointMass.single_dof_numerical(problem, (0, 30))\n",
    "sol_A = PointMass.single_dof_damped_noforce(problem)\n",
    "sol_A_discrete = map(sol_A, sol.t)\n",
    "err = sol_A_discrete - sol[2, :]\n",
    "\n",
    "p1 = plot(sol, vars=2, label=\"position\", ylabel=\"m\", color=:red)\n",
    "p2 = plot(sol_A, 0, 30, label=\"damped, F=0 N\", xlabel=\"t\", ylabel=\"u(t)\", lw=2)\n",
    "xlims!((0, 30))\n",
    "p3 = plot(sol.t, abs.(err) .+ 1e-17, yaxis=:log, label=\"|error|\", ylabel=\"\")\n",
    "xlims!((0, 30))\n",
    "\n",
    "plot(p2)\n",
    "\n",
    "savefig(\"mass-spring-damper-noforce.png\")"
   ]
  },
  {
   "cell_type": "code",
   "execution_count": 44,
   "metadata": {},
   "outputs": [
    {
     "data": {
      "text/plain": [
       "\"c:\\\\Users\\\\Gebruiker\\\\Documents\\\\CSE MINOR\\\\TW3715 Final Minor Project - Part A\\\\BusDoor_modeling2023\\\\src\\\\mass-spring-force.png\""
      ]
     },
     "metadata": {},
     "output_type": "display_data"
    }
   ],
   "source": [
    "problemA = PointMass.One_PointmassProblem(\n",
    "    m=50.0, \n",
    "    γ=0, \n",
    "    k=60.0, \n",
    "    v0=0.0, \n",
    "    x0=0, \n",
    "    F=50\n",
    ")\n",
    "problemB = PointMass.One_PointmassProblem(\n",
    "    m=50.0, \n",
    "    γ=0, \n",
    "    k=60.0, \n",
    "    v0=0.0, \n",
    "    x0=0, \n",
    "    F=500\n",
    ")\n",
    "\n",
    "sol_A = PointMass.single_dof_undamped_force(problemA)\n",
    "\n",
    "sol_B = PointMass.single_dof_undamped_force(problemB)\n",
    "\n",
    "p1 = plot(sol_A, 0, 30, label=\"not damped, F=50 N\", xlabel=\"t\", ylabel=\"u(t)\", lw=2)\n",
    "ylims!((-5, 25))\n",
    "xlims!((0, 30))\n",
    "p2 = plot(sol_B, 0, 30, label=\"not damped, F=500 N\", xlabel=\"t\", ylabel=\"u(t)\", lw=2)\n",
    "xlims!((0, 30))\n",
    "ylims!((-5, 25))\n",
    "\n",
    "plot(p1, p2, layout=(2, 1))\n",
    "\n",
    "savefig(\"mass-spring-force.png\")"
   ]
  },
  {
   "cell_type": "code",
   "execution_count": 50,
   "metadata": {},
   "outputs": [
    {
     "data": {
      "text/plain": [
       "\"c:\\\\Users\\\\Gebruiker\\\\Documents\\\\CSE MINOR\\\\TW3715 Final Minor Project - Part A\\\\BusDoor_modeling2023\\\\src\\\\mass-spring-damper-force.png\""
      ]
     },
     "metadata": {},
     "output_type": "display_data"
    }
   ],
   "source": [
    "problemB = PointMass.One_PointmassProblem(\n",
    "    m=50.0, \n",
    "    γ=23.0, \n",
    "    k=60.0, \n",
    "    v0=0.0, \n",
    "    x0=0, \n",
    "    F=500\n",
    ")\n",
    "\n",
    "sol_B = PointMass.single_dof_damped_force(problemB)\n",
    "\n",
    "p2 = plot(sol_B, 0, 30, label=\"damped, F=500 N\", xlabel=\"t\", ylabel=\"u(t)\", lw=2)\n",
    "xlims!((0, 30))\n",
    "# ylims!((0, 15))\n",
    "\n",
    "plot(p2)\n",
    "\n",
    "savefig(\"mass-spring-damper-force.png\")"
   ]
  }
 ],
 "metadata": {
  "kernelspec": {
   "display_name": "Julia 1.9.3",
   "language": "julia",
   "name": "julia-1.9"
  },
  "language_info": {
   "file_extension": ".jl",
   "mimetype": "application/julia",
   "name": "julia",
   "version": "1.9.3"
  }
 },
 "nbformat": 4,
 "nbformat_minor": 2
}
